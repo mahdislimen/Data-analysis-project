{
 "cells": [
  {
   "cell_type": "code",
   "execution_count": 2,
   "metadata": {},
   "outputs": [],
   "source": [
    "# Importer la bibliothèque pandas avec l'alias pd\n",
    "import pandas as pd"
   ]
  },
  {
   "cell_type": "code",
   "execution_count": 13,
   "metadata": {},
   "outputs": [],
   "source": [
    "# Load the dataset :\n",
    "df = pd.read_csv(\"Data/datacamp_workspace_export_2023-07-01 18_19_07.csv\")"
   ]
  },
  {
   "cell_type": "code",
   "execution_count": 14,
   "metadata": {},
   "outputs": [
    {
     "data": {
      "text/plain": [
       "(100, 5)"
      ]
     },
     "execution_count": 14,
     "metadata": {},
     "output_type": "execute_result"
    }
   ],
   "source": [
    "# determine the size of the  DataFrame (number of rows and columns ) : \n",
    "df.shape"
   ]
  },
  {
   "cell_type": "code",
   "execution_count": 15,
   "metadata": {},
   "outputs": [
    {
     "name": "stdout",
     "output_type": "stream",
     "text": [
      "<class 'pandas.core.frame.DataFrame'>\n",
      "RangeIndex: 100 entries, 0 to 99\n",
      "Data columns (total 5 columns):\n",
      " #   Column          Non-Null Count  Dtype \n",
      "---  ------          --------------  ----- \n",
      " 0   caldate         100 non-null    object\n",
      " 1   eventname       100 non-null    object\n",
      " 2   catgroup        100 non-null    object\n",
      " 3   priceperticket  100 non-null    int64 \n",
      " 4   qtysold         100 non-null    int64 \n",
      "dtypes: int64(2), object(3)\n",
      "memory usage: 4.0+ KB\n"
     ]
    }
   ],
   "source": [
    "df.info()"
   ]
  },
  {
   "cell_type": "code",
   "execution_count": 16,
   "metadata": {},
   "outputs": [
    {
     "data": {
      "text/html": [
       "<div>\n",
       "<style scoped>\n",
       "    .dataframe tbody tr th:only-of-type {\n",
       "        vertical-align: middle;\n",
       "    }\n",
       "\n",
       "    .dataframe tbody tr th {\n",
       "        vertical-align: top;\n",
       "    }\n",
       "\n",
       "    .dataframe thead th {\n",
       "        text-align: right;\n",
       "    }\n",
       "</style>\n",
       "<table border=\"1\" class=\"dataframe\">\n",
       "  <thead>\n",
       "    <tr style=\"text-align: right;\">\n",
       "      <th></th>\n",
       "      <th>caldate</th>\n",
       "      <th>eventname</th>\n",
       "      <th>catgroup</th>\n",
       "      <th>priceperticket</th>\n",
       "      <th>qtysold</th>\n",
       "    </tr>\n",
       "  </thead>\n",
       "  <tbody>\n",
       "    <tr>\n",
       "      <th>0</th>\n",
       "      <td>2008-11-02T00:00:00.000Z</td>\n",
       "      <td>Built To Spill</td>\n",
       "      <td>Concerts</td>\n",
       "      <td>96</td>\n",
       "      <td>291</td>\n",
       "    </tr>\n",
       "    <tr>\n",
       "      <th>1</th>\n",
       "      <td>2008-11-19T00:00:00.000Z</td>\n",
       "      <td>Spring Awakening</td>\n",
       "      <td>Shows</td>\n",
       "      <td>137</td>\n",
       "      <td>261</td>\n",
       "    </tr>\n",
       "    <tr>\n",
       "      <th>2</th>\n",
       "      <td>2008-12-12T00:00:00.000Z</td>\n",
       "      <td>All My Sons</td>\n",
       "      <td>Shows</td>\n",
       "      <td>208</td>\n",
       "      <td>249</td>\n",
       "    </tr>\n",
       "    <tr>\n",
       "      <th>3</th>\n",
       "      <td>2008-10-29T00:00:00.000Z</td>\n",
       "      <td>Phantom of the Opera</td>\n",
       "      <td>Shows</td>\n",
       "      <td>93</td>\n",
       "      <td>244</td>\n",
       "    </tr>\n",
       "    <tr>\n",
       "      <th>4</th>\n",
       "      <td>2008-04-26T00:00:00.000Z</td>\n",
       "      <td>Shakira</td>\n",
       "      <td>Concerts</td>\n",
       "      <td>193</td>\n",
       "      <td>219</td>\n",
       "    </tr>\n",
       "  </tbody>\n",
       "</table>\n",
       "</div>"
      ],
      "text/plain": [
       "                    caldate             eventname  catgroup  priceperticket  \\\n",
       "0  2008-11-02T00:00:00.000Z        Built To Spill  Concerts              96   \n",
       "1  2008-11-19T00:00:00.000Z      Spring Awakening     Shows             137   \n",
       "2  2008-12-12T00:00:00.000Z           All My Sons     Shows             208   \n",
       "3  2008-10-29T00:00:00.000Z  Phantom of the Opera     Shows              93   \n",
       "4  2008-04-26T00:00:00.000Z               Shakira  Concerts             193   \n",
       "\n",
       "   qtysold  \n",
       "0      291  \n",
       "1      261  \n",
       "2      249  \n",
       "3      244  \n",
       "4      219  "
      ]
     },
     "execution_count": 16,
     "metadata": {},
     "output_type": "execute_result"
    }
   ],
   "source": [
    "df.head()"
   ]
  },
  {
   "cell_type": "code",
   "execution_count": 18,
   "metadata": {},
   "outputs": [
    {
     "data": {
      "text/plain": [
       "Index(['caldate', 'eventname', 'catgroup', 'priceperticket', 'qtysold'], dtype='object')"
      ]
     },
     "execution_count": 18,
     "metadata": {},
     "output_type": "execute_result"
    }
   ],
   "source": [
    "df.columns"
   ]
  },
  {
   "cell_type": "code",
   "execution_count": 19,
   "metadata": {},
   "outputs": [
    {
     "name": "stdout",
     "output_type": "stream",
     "text": [
      "|    | caldate                  | eventname            | catgroup   |   priceperticket |   qtysold |\n",
      "|---:|:-------------------------|:---------------------|:-----------|-----------------:|----------:|\n",
      "|  0 | 2008-11-02T00:00:00.000Z | Built To Spill       | Concerts   |               96 |       291 |\n",
      "|  1 | 2008-11-19T00:00:00.000Z | Spring Awakening     | Shows      |              137 |       261 |\n",
      "|  2 | 2008-12-12T00:00:00.000Z | All My Sons          | Shows      |              208 |       249 |\n",
      "|  3 | 2008-10-29T00:00:00.000Z | Phantom of the Opera | Shows      |               93 |       244 |\n",
      "|  4 | 2008-04-26T00:00:00.000Z | Shakira              | Concerts   |              193 |       219 |\n"
     ]
    }
   ],
   "source": [
    "print(df.head(5).to_markdown())"
   ]
  }
 ],
 "metadata": {
  "kernelspec": {
   "display_name": "base",
   "language": "python",
   "name": "python3"
  },
  "language_info": {
   "codemirror_mode": {
    "name": "ipython",
    "version": 3
   },
   "file_extension": ".py",
   "mimetype": "text/x-python",
   "name": "python",
   "nbconvert_exporter": "python",
   "pygments_lexer": "ipython3",
   "version": "3.10.9"
  },
  "orig_nbformat": 4
 },
 "nbformat": 4,
 "nbformat_minor": 2
}
